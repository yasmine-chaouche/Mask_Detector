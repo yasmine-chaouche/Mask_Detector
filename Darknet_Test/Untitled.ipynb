{
 "cells": [
  {
   "cell_type": "code",
   "execution_count": 3,
   "id": "rolled-fisher",
   "metadata": {},
   "outputs": [
    {
     "name": "stderr",
     "output_type": "stream",
     "text": [
      "usage: ipykernel_launcher.py [-h] [-d DEVICE] [-s SIZE] [-c CONFIDENCE]\n",
      "ipykernel_launcher.py: error: unrecognized arguments: -f C:\\Users\\TRETEC\\AppData\\Roaming\\jupyter\\runtime\\kernel-ef3dd9aa-376e-49b2-8088-ec9bb67ba3db.json\n"
     ]
    },
    {
     "ename": "SystemExit",
     "evalue": "2",
     "output_type": "error",
     "traceback": [
      "An exception has occurred, use %tb to see the full traceback.\n",
      "\u001b[1;31mSystemExit\u001b[0m\u001b[1;31m:\u001b[0m 2\n"
     ]
    },
    {
     "name": "stderr",
     "output_type": "stream",
     "text": [
      "C:\\Users\\TRETEC\\Anaconda3\\lib\\site-packages\\IPython\\core\\interactiveshell.py:3426: UserWarning: To exit: use 'exit', 'quit', or Ctrl-D.\n",
      "  warn(\"To exit: use 'exit', 'quit', or Ctrl-D.\", stacklevel=1)\n"
     ]
    }
   ],
   "source": [
    "import argparse\n",
    "import cv2\n",
    "# from imutils.video import VideoStream\n",
    "import numpy as np\n",
    "\n",
    "from yolo import YOLO\n",
    "\n",
    "ap = argparse.ArgumentParser()\n",
    "ap.add_argument('-d', '--device', default=0, help='Device to use')\n",
    "ap.add_argument('-s', '--size', default=416, help='Size for yolo')\n",
    "ap.add_argument('-c', '--confidence', default=0.6, help='Confidence for yolo')\n",
    "args = ap.parse_args()\n",
    "\n",
    "classes = [\"Wears Mask\", \" Incorrect Wear Mask\", \"Wears No Mask\"]\n",
    "\n",
    "yolo = YOLO(\"models/mask-yolov3-tiny-prn.cfg\", \"models/mask-yolov3-tiny-prn.weights\", classes)\n",
    "yolo.size = int(args.size)\n",
    "yolo.confidence = float(args.confidence)\n",
    "\n",
    "colors = [(0, 255, 0), (0, 165, 255), (0, 0, 255)]\n",
    "\n",
    "print(\"starting webcam...\")\n",
    "cv2.namedWindow(\"Mask Detection\")\n",
    "vc = cv2.VideoCapture(0)\n",
    "if(not vc):\n",
    "    print('Frame not available')\n",
    "    print(vc.isOpened())\n",
    "\n",
    "if vc.isOpened():  # try to get the first frame\n",
    "    rval, frame = vc.read()\n",
    "  \n",
    "else:\n",
    "    rval = False\n",
    "\n",
    "while True:\n",
    "    rval,frame = vc.read()\n",
    "    width, height, inference_time, results = yolo.inference(frame)\n",
    "    for detection in results:\n",
    "        \n",
    "        id, name, confidence, x, y, w, h = detection\n",
    "        cx = x + (w / 2)\n",
    "        cy = y + (h / 2)\n",
    "\n",
    "        # draw a bounding box rectangle and label on the image\n",
    "        color = colors[id]\n",
    "        cv2.rectangle(frame, (x, y), (x + w, y + h), color, 2)\n",
    "        text = \"%s (%s)\" % (name, round(confidence, 2))\n",
    "        cv2.putText(frame, text, (x, y - 5), cv2.FONT_HERSHEY_SIMPLEX,\n",
    "                    0.5, color, 2)\n",
    "\n",
    "    cv2.imshow(\"Mask Detection\", frame)\n",
    "\n",
    "\n",
    "    key = cv2.waitKey(20)\n",
    "    if key == 27:  # exit on ESC\n",
    "        break\n",
    "\n",
    "cv2.destroyWindow(\"preview\")\n",
    "vc.release()\n"
   ]
  },
  {
   "cell_type": "code",
   "execution_count": 3,
   "id": "perceived-syntax",
   "metadata": {},
   "outputs": [
    {
     "name": "stdout",
     "output_type": "stream",
     "text": [
      "Note: you may need to restart the kernel to use updated packages.\n"
     ]
    },
    {
     "name": "stderr",
     "output_type": "stream",
     "text": [
      "Traceback (most recent call last):\n",
      "  File \"C:\\Users\\TRETEC\\Anaconda3\\lib\\runpy.py\", line 193, in _run_module_as_main\n",
      "    \"__main__\", mod_spec)\n",
      "  File \"C:\\Users\\TRETEC\\Anaconda3\\lib\\runpy.py\", line 85, in _run_code\n",
      "    exec(code, run_globals)\n",
      "  File \"C:\\Users\\TRETEC\\Anaconda3\\lib\\site-packages\\pip\\__main__.py\", line 23, in <module>\n",
      "    from pip._internal.cli.main import main as _main  # isort:skip # noqa\n",
      "  File \"C:\\Users\\TRETEC\\Anaconda3\\lib\\site-packages\\pip\\_internal\\cli\\main.py\", line 10, in <module>\n",
      "    from pip._internal.cli.autocompletion import autocomplete\n",
      "  File \"C:\\Users\\TRETEC\\Anaconda3\\lib\\site-packages\\pip\\_internal\\cli\\autocompletion.py\", line 9, in <module>\n",
      "    from pip._internal.cli.main_parser import create_main_parser\n",
      "  File \"C:\\Users\\TRETEC\\Anaconda3\\lib\\site-packages\\pip\\_internal\\cli\\main_parser.py\", line 7, in <module>\n",
      "    from pip._internal.cli import cmdoptions\n",
      "  File \"C:\\Users\\TRETEC\\Anaconda3\\lib\\site-packages\\pip\\_internal\\cli\\cmdoptions.py\", line 23, in <module>\n",
      "    from pip._internal.cli.progress_bars import BAR_TYPES\n",
      "  File \"C:\\Users\\TRETEC\\Anaconda3\\lib\\site-packages\\pip\\_internal\\cli\\progress_bars.py\", line 12, in <module>\n",
      "    from pip._internal.utils.logging import get_indentation\n",
      "  File \"C:\\Users\\TRETEC\\Anaconda3\\lib\\site-packages\\pip\\_internal\\utils\\logging.py\", line 18, in <module>\n",
      "    from pip._internal.utils.misc import ensure_dir\n",
      "  File \"C:\\Users\\TRETEC\\Anaconda3\\lib\\site-packages\\pip\\_internal\\utils\\misc.py\", line 33, in <module>\n",
      "    from pip._internal.locations import (\n",
      "  File \"C:\\Users\\TRETEC\\Anaconda3\\lib\\site-packages\\pip\\_internal\\locations\\__init__.py\", line 9, in <module>\n",
      "    from . import _distutils, _sysconfig\n",
      "  File \"C:\\Users\\TRETEC\\Anaconda3\\lib\\site-packages\\pip\\_internal\\locations\\_sysconfig.py\", line 8, in <module>\n",
      "    from pip._internal.exceptions import InvalidSchemeCombination, UserInstallationInvalid\n",
      "ImportError: cannot import name 'InvalidSchemeCombination' from 'pip._internal.exceptions' (C:\\Users\\TRETEC\\Anaconda3\\lib\\site-packages\\pip\\_internal\\exceptions.py)\n"
     ]
    }
   ],
   "source": [
    "pip install imutils\n"
   ]
  }
 ],
 "metadata": {
  "kernelspec": {
   "display_name": "Python 3",
   "language": "python",
   "name": "python3"
  },
  "language_info": {
   "codemirror_mode": {
    "name": "ipython",
    "version": 3
   },
   "file_extension": ".py",
   "mimetype": "text/x-python",
   "name": "python",
   "nbconvert_exporter": "python",
   "pygments_lexer": "ipython3",
   "version": "3.7.9"
  }
 },
 "nbformat": 4,
 "nbformat_minor": 5
}
